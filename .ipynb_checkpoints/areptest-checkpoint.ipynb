{
 "cells": [
  {
   "cell_type": "code",
   "execution_count": 1,
   "metadata": {},
   "outputs": [
    {
     "name": "stdout",
     "output_type": "stream",
     "text": [
      "Animal World,\n",
      "Friday, 29 June 2018,\n",
      "12:15 PM,\n",
      "Animal World,\n",
      "Friday, 29 June 2018,\n",
      "12:15 PM,\n"
     ]
    }
   ],
   "source": [
    "# -*- coding: utf-8 -*-\n",
    "import requests\n",
    "from bs4 import BeautifulSoup\n",
    "import re\n",
    "# from urllib import request\n",
    "import os\n",
    "from six.moves import urllib\n",
    "\n",
    "\n",
    "# declaration section\n",
    "paging = 0\n",
    "main_url = \"https://tickets.mmcineplexes.com/Browsing/Cinemas/Details/1000\"\n",
    "number_of_page = 1\n",
    "\n",
    "# navigate through all pages\n",
    "while (paging <= number_of_page):\n",
    "    main_url = \"https://tickets.mmcineplexes.com/Browsing/Cinemas/Details/1000\"\n",
    "    page = requests.get(main_url)\n",
    "    soup = BeautifulSoup(page.content, 'html.parser')\n",
    "\n",
    "    #open next page\n",
    "    urllib.request.urlopen(main_url) \n",
    "\n",
    "    #write all in txt according to item\n",
    "    count = 0\n",
    "    for lala in soup.find_all(class_=\"cinema last-cinema\"):\n",
    "            #scrap item title\n",
    "            print (lala.find(class_='film-item').find('h3').getText() + ',')            \n",
    "            \n",
    "            #scrap current date\n",
    "            if lala.find(class_='session-date'): \n",
    "                print (lala.find(class_='session-date').getText() + ',')\n",
    "            \n",
    "            # else:\n",
    "            #     print lala.find(class_='product__price fc aic jcsb').getText().strip()+',',\n",
    "\n",
    "            #scrap movie time              \n",
    "            if lala.find(class_='session-times'): \n",
    "                print (lala.find(class_='session-times').find('time').getText() + ',') \n",
    "            \n",
    "            # remove all whitespace\n",
    "            # print desc_link + re.sub(r'[^\\w.]', '-', lala.find(class_='mg0').find('a')['title'].replace(\":\",\"\").replace(\".\",\"\").replace(\"?\",\"\"))+',',\n",
    "            # print \"No Description\"+\",\"\n",
    "            #  remove all symbol\n",
    "           \n",
    "    paging+=1"
   ]
  },
  {
   "cell_type": "code",
   "execution_count": 5,
   "metadata": {},
   "outputs": [
    {
     "name": "stdout",
     "output_type": "stream",
     "text": [
      "filem title:  <h3 class=\"film-title\">Animal World</h3>\n"
     ]
    },
    {
     "ename": "ValueError",
     "evalue": "too many values to unpack (expected 2)",
     "output_type": "error",
     "traceback": [
      "\u001b[0;31m---------------------------------------------------------------------------\u001b[0m",
      "\u001b[0;31mValueError\u001b[0m                                Traceback (most recent call last)",
      "\u001b[0;32m<ipython-input-5-77ff7c7b77aa>\u001b[0m in \u001b[0;36m<module>\u001b[0;34m()\u001b[0m\n\u001b[1;32m     15\u001b[0m \u001b[0;31m#     loopeach movie\u001b[0m\u001b[0;34m\u001b[0m\u001b[0;34m\u001b[0m\u001b[0m\n\u001b[1;32m     16\u001b[0m     \u001b[0mprint\u001b[0m \u001b[0;34m(\u001b[0m\u001b[0;34m\"filem title: \"\u001b[0m \u001b[0;34m,\u001b[0m\u001b[0mfilem\u001b[0m\u001b[0;34m.\u001b[0m\u001b[0mfind\u001b[0m\u001b[0;34m(\u001b[0m\u001b[0mclass_\u001b[0m\u001b[0;34m=\u001b[0m\u001b[0;34m\"film-title\"\u001b[0m\u001b[0;34m)\u001b[0m\u001b[0;34m)\u001b[0m\u001b[0;34m\u001b[0m\u001b[0m\n\u001b[0;32m---> 17\u001b[0;31m     \u001b[0;32mfor\u001b[0m \u001b[0midx\u001b[0m\u001b[0;34m,\u001b[0m\u001b[0mshowtime\u001b[0m \u001b[0;32min\u001b[0m \u001b[0mfilem\u001b[0m\u001b[0;34m.\u001b[0m\u001b[0mfind_all\u001b[0m\u001b[0;34m(\u001b[0m\u001b[0mclass_\u001b[0m\u001b[0;34m=\u001b[0m\u001b[0;34m\"session-time\"\u001b[0m\u001b[0;34m)\u001b[0m\u001b[0;34m:\u001b[0m\u001b[0;34m\u001b[0m\u001b[0m\n\u001b[0m\u001b[1;32m     18\u001b[0m         \u001b[0mprint\u001b[0m\u001b[0;34m(\u001b[0m\u001b[0;34m\"showtime \"\u001b[0m\u001b[0;34m,\u001b[0m\u001b[0midx\u001b[0m\u001b[0;34m,\u001b[0m\u001b[0;34m\" \"\u001b[0m\u001b[0;34m,\u001b[0m\u001b[0mshowtime\u001b[0m\u001b[0;34m)\u001b[0m\u001b[0;34m\u001b[0m\u001b[0m\n",
      "\u001b[0;31mValueError\u001b[0m: too many values to unpack (expected 2)"
     ]
    }
   ],
   "source": [
    "import requests\n",
    "from bs4 import BeautifulSoup\n",
    "import re\n",
    "# from urllib import request\n",
    "import os\n",
    "from six.moves import urllib\n",
    "\n",
    "# film-showtimes\n",
    "main_url = \"https://tickets.mmcineplexes.com/Browsing/Cinemas/Details/1000\"\n",
    "page = requests.get(main_url)\n",
    "soup = BeautifulSoup(page.content, 'html.parser')\n",
    "filems = soup.find_all(class_=\"film-showtimes\")\n",
    "eachfilemarray = [filem for filem in filems]\n",
    "for filem in filems:\n",
    "#     loopeach movie\n",
    "    print (\"filem title: \" ,filem.find(class_=\"film-title\"))\n",
    "    for idx,showtime in in enumerate(filem.find_all(class_=\"session-time\")):\n",
    "        print(\"showtime \",idx,\" \",showtime)"
   ]
  },
  {
   "cell_type": "code",
   "execution_count": null,
   "metadata": {
    "collapsed": true
   },
   "outputs": [],
   "source": []
  }
 ],
 "metadata": {
  "kernelspec": {
   "display_name": "Python 3",
   "language": "python",
   "name": "python3"
  },
  "language_info": {
   "codemirror_mode": {
    "name": "ipython",
    "version": 3
   },
   "file_extension": ".py",
   "mimetype": "text/x-python",
   "name": "python",
   "nbconvert_exporter": "python",
   "pygments_lexer": "ipython3",
   "version": "3.6.2"
  }
 },
 "nbformat": 4,
 "nbformat_minor": 2
}
