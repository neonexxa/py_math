{
 "cells": [
  {
   "cell_type": "markdown",
   "metadata": {},
   "source": [
    "## Part 1: understanding the differences in used,%,available,free memory"
   ]
  },
  {
   "cell_type": "code",
   "execution_count": 1,
   "metadata": {
    "collapsed": true
   },
   "outputs": [],
   "source": [
    "import resource\n",
    "import os\n",
    "import psutil"
   ]
  },
  {
   "cell_type": "code",
   "execution_count": 2,
   "metadata": {
    "collapsed": true
   },
   "outputs": [],
   "source": [
    "pid = os.getpid()\n",
    "py = psutil.Process(pid)\n",
    "py2 = psutil.virtual_memory()\n",
    "memoryUse = py.memory_info()"
   ]
  },
  {
   "cell_type": "code",
   "execution_count": 3,
   "metadata": {},
   "outputs": [
    {
     "data": {
      "text/plain": [
       "(pmem(rss=41521152, vms=4412760064, pfaults=17441, pageins=0),\n",
       " 44284,\n",
       " svmem(total=8589934592, available=2361167872, percent=72.5, used=7007039488, free=66088960, active=2645757952, inactive=2295078912, wired=2066202624))"
      ]
     },
     "execution_count": 3,
     "metadata": {},
     "output_type": "execute_result"
    }
   ],
   "source": [
    "memoryUse,pid,py2"
   ]
  },
  {
   "cell_type": "code",
   "execution_count": 4,
   "metadata": {},
   "outputs": [
    {
     "data": {
      "text/plain": [
       "6227702579.2"
      ]
     },
     "execution_count": 4,
     "metadata": {},
     "output_type": "execute_result"
    }
   ],
   "source": [
    "py2.total * py2.percent/100"
   ]
  },
  {
   "cell_type": "code",
   "execution_count": 5,
   "metadata": {},
   "outputs": [
    {
     "data": {
      "text/plain": [
       "6228766720"
      ]
     },
     "execution_count": 5,
     "metadata": {},
     "output_type": "execute_result"
    }
   ],
   "source": [
    "py2.total - py2.available"
   ]
  },
  {
   "cell_type": "code",
   "execution_count": 6,
   "metadata": {},
   "outputs": [
    {
     "data": {
      "text/plain": [
       "1582895104"
      ]
     },
     "execution_count": 6,
     "metadata": {},
     "output_type": "execute_result"
    }
   ],
   "source": [
    "py2.total - py2.used"
   ]
  },
  {
   "cell_type": "markdown",
   "metadata": {},
   "source": [
    "As we can see that it si similar or atleast the same memory consumtion  , simple formula we could decude is "
   ]
  },
  {
   "cell_type": "markdown",
   "metadata": {},
   "source": [
    "(py2.total - py2.available) =  (py2.total * py2.percent/100)\n",
    "(py2.total - py2.available)/ py2.total = py2.percent/100"
   ]
  },
  {
   "cell_type": "markdown",
   "metadata": {},
   "source": [
    "or so basicly in simple term  "
   ]
  },
  {
   "cell_type": "code",
   "execution_count": 7,
   "metadata": {},
   "outputs": [],
   "source": [
    "used_ram  = (py2.total - py2.available)/ py2.total *100 #for percent "
   ]
  },
  {
   "cell_type": "code",
   "execution_count": 8,
   "metadata": {},
   "outputs": [
    {
     "name": "stdout",
     "output_type": "stream",
     "text": [
      "72.51238822937012 % =  72.5\n"
     ]
    }
   ],
   "source": [
    "print (used_ram,'% = ', py2.percent)"
   ]
  },
  {
   "cell_type": "markdown",
   "metadata": {},
   "source": [
    "## Part 2: Class usage"
   ]
  },
  {
   "cell_type": "code",
   "execution_count": 16,
   "metadata": {
    "collapsed": true
   },
   "outputs": [],
   "source": [
    "class neo:\n",
    "    def code(self,proj):\n",
    "        print(\"{} is coding\".format(proj))\n",
    "\n",
    "    def deploy(self):\n",
    "        print(\"Neo deploy the project.\")"
   ]
  },
  {
   "cell_type": "code",
   "execution_count": 17,
   "metadata": {
    "collapsed": true
   },
   "outputs": [],
   "source": [
    "firdaus = neo()"
   ]
  },
  {
   "cell_type": "code",
   "execution_count": 22,
   "metadata": {},
   "outputs": [
    {
     "name": "stdout",
     "output_type": "stream",
     "text": [
      "what the fuck is coding\n"
     ]
    }
   ],
   "source": [
    "firdaus.code('what the fuck')"
   ]
  },
  {
   "cell_type": "markdown",
   "metadata": {},
   "source": [
    "Noe lets try building a constructor method"
   ]
  },
  {
   "cell_type": "code",
   "execution_count": 20,
   "metadata": {
    "collapsed": true
   },
   "outputs": [],
   "source": [
    "class neo_v2:\n",
    "    def code(self,proj):\n",
    "        print(\"{} is coding\".format(proj))\n",
    "\n",
    "    def deploy(self):\n",
    "        print(\"Neo deploy the project.\")\n",
    "    \n",
    "    def __init__(self):\n",
    "        print(\"This is the constructor method.\")"
   ]
  },
  {
   "cell_type": "code",
   "execution_count": 21,
   "metadata": {},
   "outputs": [
    {
     "name": "stdout",
     "output_type": "stream",
     "text": [
      "This is the constructor method.\n"
     ]
    }
   ],
   "source": [
    "firdaus2 = neo_v2()"
   ]
  },
  {
   "cell_type": "code",
   "execution_count": 27,
   "metadata": {
    "collapsed": true
   },
   "outputs": [],
   "source": [
    "class neo_v3:\n",
    "    def code(self,proj):\n",
    "        print(\"{} coding\".format(proj))\n",
    "\n",
    "    def deploy(self):\n",
    "        print(\"Neo deploy the project.\")\n",
    "    \n",
    "    def __init__(self):\n",
    "        self.deploy()\n",
    "        self.code('peninglah ')\n",
    "        print(\"This is the constructor method.\")"
   ]
  },
  {
   "cell_type": "code",
   "execution_count": 28,
   "metadata": {},
   "outputs": [
    {
     "name": "stdout",
     "output_type": "stream",
     "text": [
      "Neo deploy the project.\n",
      "peninglah  coding\n",
      "This is the constructor method.\n"
     ]
    }
   ],
   "source": [
    "firdaus3 = neo_v3()"
   ]
  },
  {
   "cell_type": "code",
   "execution_count": 31,
   "metadata": {},
   "outputs": [
    {
     "name": "stdout",
     "output_type": "stream",
     "text": [
      "Project 1 is execiting.\n",
      "Project 2 is execiting.\n",
      "Project 1 is execiting.\n"
     ]
    }
   ],
   "source": [
    "class neo_v4:\n",
    "    def __init__(self, projname):\n",
    "        self.projname = projname\n",
    "        self.proj()\n",
    "\n",
    "    def proj(self):\n",
    "        # Reference the name\n",
    "        print(self.projname + \" is execiting.\")\n",
    "        \n",
    "def main():\n",
    "    # Set name of Shark object\n",
    "    result = neo_v4(\"Project 1\")\n",
    "    result2 = neo_v4(\"Project 2\")\n",
    "    result.proj()\n",
    "\n",
    "if __name__ == \"__main__\":\n",
    "    main()"
   ]
  },
  {
   "cell_type": "markdown",
   "metadata": {},
   "source": [
    "here we can see that second time the method is called from outside the class executes the projname based on its class assignment while even though result 2 has set the projname to 'project 2'"
   ]
  },
  {
   "cell_type": "code",
   "execution_count": 36,
   "metadata": {},
   "outputs": [
    {
     "name": "stdout",
     "output_type": "stream",
     "text": [
      "Project 1 is name.\n",
      "1 is id.\n",
      "1 is id\n"
     ]
    }
   ],
   "source": [
    "class neo_v4:\n",
    "    def __init__(self, projname):\n",
    "        self.projname = projname\n",
    "#         self.proj()\n",
    "\n",
    "    def proj(self,projid):\n",
    "        # Reference the name\n",
    "        self.projid = projid\n",
    "        print(self.projname + \" is name.\")\n",
    "        print(self.projid + \" is id.\")\n",
    "    \n",
    "    def relfun(self):\n",
    "        print(self.projid + \" is id\")\n",
    "        \n",
    "def main():\n",
    "    # Set name of Shark object\n",
    "    result = neo_v4(\"Project 1\")\n",
    "    result2 = neo_v4(\"Project 2\")\n",
    "    result.proj('1')\n",
    "    result.relfun()\n",
    "\n",
    "if __name__ == \"__main__\":\n",
    "    main()"
   ]
  },
  {
   "cell_type": "code",
   "execution_count": null,
   "metadata": {
    "collapsed": true
   },
   "outputs": [],
   "source": []
  }
 ],
 "metadata": {
  "kernelspec": {
   "display_name": "Python 3",
   "language": "python",
   "name": "python3"
  },
  "language_info": {
   "codemirror_mode": {
    "name": "ipython",
    "version": 3
   },
   "file_extension": ".py",
   "mimetype": "text/x-python",
   "name": "python",
   "nbconvert_exporter": "python",
   "pygments_lexer": "ipython3",
   "version": "3.6.2"
  }
 },
 "nbformat": 4,
 "nbformat_minor": 2
}
