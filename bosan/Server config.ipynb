{
 "cells": [
  {
   "cell_type": "code",
   "execution_count": null,
   "metadata": {
    "collapsed": true
   },
   "outputs": [],
   "source": [
    "Gunicorn / uwsgi"
   ]
  },
  {
   "cell_type": "code",
   "execution_count": null,
   "metadata": {
    "collapsed": true
   },
   "outputs": [],
   "source": [
    "server {\n",
    "#    server_name 206.189.36.250;\n",
    "    server_name sara.aicentrica.com;\n",
    "    client_max_body_size 4G;\n",
    "error_log /var/log/uwsgi/ai_prism.log;\n",
    "    location / {\n",
    "include proxy_params;\n",
    "        proxy_connect_timeout 10080s;\n",
    "        proxy_send_timeout 10080;\n",
    "        proxy_read_timeout 10080;\n",
    "        proxy_request_buffering off;\n",
    "        proxy_buffering off;\n",
    "\n",
    "#        include uwsgi_params;\n",
    "        proxy_pass http://unix:/var/www/github/ai_prism/ai_prism.sock;\n",
    "       # uwsgi_read_timeout 1800s;\n",
    "     }\n",
    "#    location / {\n",
    " #       include uwsgi_params;\n",
    "  #      proxy_pass http://127.0.0.1:5000;\n",
    "        #proxy_set_header Host $host;\n",
    "        #proxy_set_header X-Forwarded-For $proxy_add_x_forwarded_for;\n",
    "   # }\n",
    "    listen 443 ssl; # managed by Certbot\n",
    "    ssl_certificate /etc/letsencrypt/live/sara.aicentrica.com/fullchain.pem; # managed by Certbot\n",
    "    ssl_certificate_key /etc/letsencrypt/live/sara.aicentrica.com/privkey.pem; # managed by Certbot\n",
    "    include /etc/letsencrypt/options-ssl-nginx.conf; # managed by Certbot\n",
    "    ssl_dhparam /etc/letsencrypt/ssl-dhparams.pem; # managed by Certbot\n",
    "\n",
    "}\n",
    "server {\n",
    "    if ($host = sara.aicentrica.com) {\n",
    "        return 301 https://$host$request_uri;\n",
    "    } # managed by Certbot\n",
    "\n",
    "\n",
    "    listen 80;\n",
    "    server_name sara.aicentrica.com;\n",
    "    return 404; # managed by Certbot\n",
    "\n",
    "\n",
    "}\n"
   ]
  },
  {
   "cell_type": "code",
   "execution_count": null,
   "metadata": {
    "collapsed": true
   },
   "outputs": [],
   "source": []
  }
 ],
 "metadata": {
  "kernelspec": {
   "display_name": "Python 3",
   "language": "python",
   "name": "python3"
  },
  "language_info": {
   "codemirror_mode": {
    "name": "ipython",
    "version": 3
   },
   "file_extension": ".py",
   "mimetype": "text/x-python",
   "name": "python",
   "nbconvert_exporter": "python",
   "pygments_lexer": "ipython3",
   "version": "3.6.2"
  }
 },
 "nbformat": 4,
 "nbformat_minor": 2
}
