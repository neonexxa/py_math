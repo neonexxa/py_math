{
 "cells": [
  {
   "cell_type": "markdown",
   "metadata": {},
   "source": [
    "## This is neonexxa personal math notes in python (generators, class, yields , 200'000'000 mil loops)"
   ]
  },
  {
   "cell_type": "markdown",
   "metadata": {},
   "source": [
    "#### Lowest Common Multiple"
   ]
  },
  {
   "cell_type": "code",
   "execution_count": 1,
   "metadata": {
    "scrolled": true
   },
   "outputs": [
    {
     "name": "stdout",
     "output_type": "stream",
     "text": [
      "1\n",
      "2\n",
      "3\n",
      "4\n",
      "5\n",
      "6\n",
      "7\n",
      "8\n",
      "9\n",
      "2520\n"
     ]
    }
   ],
   "source": [
    "from math import gcd\n",
    "lcm = 1\n",
    "x = range(1, 10) ## x can also be [2,3,5], currently all numbers from 1 to 10 \n",
    "for i in x:\n",
    "    lcm = lcm*i//gcd(lcm, i)\n",
    "    print(i)\n",
    "print (lcm)"
   ]
  },
  {
   "cell_type": "markdown",
   "metadata": {},
   "source": [
    "#### Highest Common Factor"
   ]
  },
  {
   "cell_type": "code",
   "execution_count": null,
   "metadata": {
    "collapsed": true
   },
   "outputs": [],
   "source": []
  },
  {
   "cell_type": "markdown",
   "metadata": {},
   "source": [
    "#### Fibonaci by class"
   ]
  },
  {
   "cell_type": "code",
   "execution_count": 2,
   "metadata": {},
   "outputs": [
    {
     "name": "stdout",
     "output_type": "stream",
     "text": [
      "0\n",
      "1\n",
      "1\n",
      "2\n",
      "3\n",
      "5\n",
      "8\n",
      "13\n",
      "21\n",
      "34\n",
      "55\n",
      "89\n",
      "144\n",
      "233\n",
      "377\n",
      "610\n",
      "987\n",
      "1597\n",
      "2584\n",
      "4181\n",
      "6765\n",
      "10946\n",
      "17711\n",
      "28657\n",
      "46368\n",
      "75025\n",
      "121393\n",
      "196418\n",
      "317811\n",
      "514229\n",
      "832040\n",
      "1346269\n",
      "2178309\n",
      "3524578\n",
      "5702887\n",
      "9227465\n",
      "14930352\n"
     ]
    }
   ],
   "source": [
    "class fibonacci:\n",
    "\n",
    "    def __init__(self, max=20000000):\n",
    "        self.a, self.b = 0, 1\n",
    "        self.max = max\n",
    "\n",
    "    def __iter__(self):\n",
    "        # Return the iterable object (self)\n",
    "        return self\n",
    "\n",
    "    def next(self):\n",
    "        # When we need to stop the iteration we just need to raise\n",
    "        # a StopIteration exception\n",
    "        if self.a > self.max:\n",
    "            raise StopIteration\n",
    "\n",
    "        # save the value that has to be returned\n",
    "        value_to_be_returned = self.a\n",
    "\n",
    "        # calculate the next values of the sequence\n",
    "        self.a, self.b = self.b, self.a + self.b\n",
    "\n",
    "        return value_to_be_returned\n",
    "\n",
    "    def __next__(self):\n",
    "        # For compatibility with Python3\n",
    "        return self.next()\n",
    "\n",
    "\n",
    "if __name__ == '__main__':\n",
    "    MY_FIBONACCI_NUMBERS = fibonacci()\n",
    "    for fibonacci_number in MY_FIBONACCI_NUMBERS:\n",
    "        print(fibonacci_number)"
   ]
  },
  {
   "cell_type": "markdown",
   "metadata": {
    "collapsed": true
   },
   "source": [
    "#### fibonaci by generator"
   ]
  },
  {
   "cell_type": "code",
   "execution_count": 3,
   "metadata": {},
   "outputs": [
    {
     "name": "stdout",
     "output_type": "stream",
     "text": [
      "0\n",
      "1\n",
      "1\n",
      "2\n",
      "3\n",
      "5\n",
      "8\n",
      "13\n",
      "21\n",
      "34\n",
      "55\n",
      "89\n",
      "144\n",
      "233\n",
      "377\n",
      "610\n",
      "987\n",
      "1597\n",
      "2584\n",
      "4181\n",
      "6765\n",
      "10946\n",
      "17711\n",
      "28657\n",
      "46368\n",
      "75025\n",
      "121393\n",
      "196418\n",
      "317811\n",
      "514229\n",
      "832040\n",
      "1346269\n",
      "2178309\n",
      "3524578\n",
      "5702887\n",
      "9227465\n",
      "14930352\n",
      "24157817\n",
      "39088169\n",
      "63245986\n",
      "102334155\n",
      "165580141\n"
     ]
    }
   ],
   "source": [
    "def fibonacci_gen(max):\n",
    "    a, b = 0, 1\n",
    "    while a < max:\n",
    "        yield a\n",
    "        a, b = b, a+b\n",
    "\n",
    "if __name__ == '__main__':\n",
    "    # Create a generator of fibonacci numbers smaller than 1 million\n",
    "    fibonacci_generator = fibonacci_gen(200000000)\n",
    "\n",
    "    # print out all the sequence\n",
    "    for fibonacci_number in fibonacci_generator:\n",
    "        print(fibonacci_number)"
   ]
  },
  {
   "cell_type": "markdown",
   "metadata": {},
   "source": [
    "#### Generating list from generator "
   ]
  },
  {
   "cell_type": "markdown",
   "metadata": {},
   "source": [
    "######  list comprehension natural"
   ]
  },
  {
   "cell_type": "code",
   "execution_count": 4,
   "metadata": {},
   "outputs": [
    {
     "name": "stdout",
     "output_type": "stream",
     "text": [
      "[0, 1, 1, 2, 3, 5, 8, 13, 21, 34, 55, 89, 144, 233, 377, 610, 987, 1597, 2584, 4181, 6765, 10946, 17711, 28657, 46368, 75025, 121393, 196418, 317811, 514229, 832040, 1346269, 2178309, 3524578, 5702887, 9227465, 14930352]\n"
     ]
    }
   ],
   "source": [
    "fibonacci_list = [x for x in fibonacci_gen(20000000)]\n",
    "print(\"{0}\".format(fibonacci_list))"
   ]
  },
  {
   "cell_type": "markdown",
   "metadata": {},
   "source": [
    "######  list comprehension direct list"
   ]
  },
  {
   "cell_type": "code",
   "execution_count": 5,
   "metadata": {},
   "outputs": [
    {
     "name": "stdout",
     "output_type": "stream",
     "text": [
      "[0, 1, 1, 2, 3, 5, 8, 13, 21, 34, 55, 89, 144, 233, 377, 610, 987, 1597, 2584, 4181, 6765, 10946, 17711, 28657, 46368, 75025, 121393, 196418, 317811, 514229, 832040, 1346269, 2178309, 3524578, 5702887, 9227465, 14930352]\n"
     ]
    }
   ],
   "source": [
    "my_fibonacci_list2 = list(fibonacci_gen(20000000))\n",
    "print(\"{0}\".format(my_fibonacci_list2))"
   ]
  },
  {
   "cell_type": "markdown",
   "metadata": {},
   "source": [
    "###### basic funtion used on list"
   ]
  },
  {
   "cell_type": "code",
   "execution_count": 6,
   "metadata": {},
   "outputs": [
    {
     "name": "stdout",
     "output_type": "stream",
     "text": [
      "The min number is: 0\n",
      "The max number is: 14930352\n",
      "The sum of is: 39088168\n"
     ]
    }
   ],
   "source": [
    "print(\"The min number is: {0}\".format(min(fibonacci_gen(20000000)))) \n",
    "print(\"The max number is: {0}\".format(max(fibonacci_gen(20000000))))\n",
    "print(\"The sum of is: {0}\".format(sum(fibonacci_gen(20000000))))"
   ]
  }
 ],
 "metadata": {
  "kernelspec": {
   "display_name": "Python 3",
   "language": "python",
   "name": "python3"
  },
  "language_info": {
   "codemirror_mode": {
    "name": "ipython",
    "version": 3
   },
   "file_extension": ".py",
   "mimetype": "text/x-python",
   "name": "python",
   "nbconvert_exporter": "python",
   "pygments_lexer": "ipython3",
   "version": "3.6.2"
  }
 },
 "nbformat": 4,
 "nbformat_minor": 2
}
